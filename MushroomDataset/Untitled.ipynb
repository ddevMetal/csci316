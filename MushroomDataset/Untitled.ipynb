{
 "cells": [
  {
   "cell_type": "markdown",
   "id": "034b7852-54dd-420a-84de-9cdf013f187d",
   "metadata": {},
   "source": [
    "## Assignment 1 Task 2"
   ]
  },
  {
   "cell_type": "markdown",
   "id": "1c915096-7658-46a7-a8da-1a2da1f56fc9",
   "metadata": {},
   "source": [
    "#### Requirement 1: \n",
    "Select at least 5 features and implement a DT model by using the split criterion Information Gain. At \n",
    "least one feature must be categorical and at least one feature must be continuous. "
   ]
  },
  {
   "cell_type": "code",
   "execution_count": null,
   "id": "1d2aa631-6a75-4a74-9503-7d87e977c8fb",
   "metadata": {},
   "outputs": [],
   "source": [
    "# imports\n",
    "import pandas as pd\n",
    "import numpy as np\n",
    "\n",
    "\n",
    "filepath = "
   ]
  }
 ],
 "metadata": {
  "kernelspec": {
   "display_name": "Python 3 (ipykernel)",
   "language": "python",
   "name": "python3"
  },
  "language_info": {
   "codemirror_mode": {
    "name": "ipython",
    "version": 3
   },
   "file_extension": ".py",
   "mimetype": "text/x-python",
   "name": "python",
   "nbconvert_exporter": "python",
   "pygments_lexer": "ipython3",
   "version": "3.12.8"
  }
 },
 "nbformat": 4,
 "nbformat_minor": 5
}
